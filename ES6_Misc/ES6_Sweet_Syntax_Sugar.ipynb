{
 "cells": [
  {
   "cell_type": "markdown",
   "metadata": {},
   "source": [
    "# ES6 甜美的語法糖\n",
    "\n",
    "ES6 提供了許多語法糖，對於開發者來說是一大福音  \n",
    "這裡提供了一些常見的範例，讓我們來看看吧！"
   ]
  },
  {
   "cell_type": "markdown",
   "metadata": {},
   "source": [
    "## Arrow Function 箭頭函式\n",
    "\n",
    "> ```js\n",
    "> () => {}\n",
    "> ```"
   ]
  },
  {
   "cell_type": "markdown",
   "metadata": {},
   "source": [
    "箭頭函式用符號來取代 `function` 保留字建立函式，   \n",
    "大部份時候它可以完全取代 `function`。讀起來更簡潔。"
   ]
  },
  {
   "cell_type": "code",
   "execution_count": null,
   "metadata": {},
   "outputs": [],
   "source": [
    "{\n",
    "  var discount = price => {\n",
    "    return 0.8 * price;\n",
    "  };\n",
    "  console.log(discount(100));\n",
    "\n",
    "  var squareArea = x => x * x; // shorthand for single arg\n",
    "  console.log(squareArea(5));\n",
    "}"
   ]
  },
  {
   "cell_type": "markdown",
   "metadata": {},
   "source": [
    "## Template String 字串模板\n",
    "\n",
    "> ```js\n",
    "> `Hello ${person.name}`\n",
    "> ```"
   ]
  },
  {
   "cell_type": "markdown",
   "metadata": {},
   "source": [
    "當你需要把變數的值轉成字串並組合在一起時，Template String 可以提供好讀的語法"
   ]
  },
  {
   "cell_type": "code",
   "execution_count": null,
   "metadata": {},
   "outputs": [],
   "source": [
    "{\n",
    "  var product = {\n",
    "    name: 'mug',\n",
    "    price: 50,\n",
    "    color: 'blue',\n",
    "  };\n",
    "  console.log(`Now we have a ${product.color} ${product.name} on Sale.\n",
    "It's only ${product.price * 0.8} dollars.`);\n",
    "}"
   ]
  },
  {
   "cell_type": "markdown",
   "metadata": {},
   "source": [
    "## let, const 變數\n",
    "\n",
    "- 不允許「重新賦值」的變數 -> `const`\n",
    "- 允許「重新賦值」的變數 -> `let`\n",
    "\n",
    "\n",
    "> ```js\n",
    "> const PI = 3.14\n",
    "> let count = 5\n",
    "> ```"
   ]
  },
  {
   "cell_type": "code",
   "execution_count": null,
   "metadata": {},
   "outputs": [],
   "source": [
    "{\n",
    "  const name = 'derek';\n",
    "  name = 'ivy';\n",
    "  // would it throw error?\n",
    "}"
   ]
  },
  {
   "cell_type": "markdown",
   "metadata": {},
   "source": [
    "但是你可以修改以 `let` 宣告的變數："
   ]
  },
  {
   "cell_type": "code",
   "execution_count": null,
   "metadata": {},
   "outputs": [],
   "source": [
    "{\n",
    "  let name = 'derek';\n",
    "  name = 'ivy';\n",
    "  console.log(name);\n",
    "}"
   ]
  },
  {
   "cell_type": "markdown",
   "metadata": {},
   "source": [
    "每個變數只能在「有效的作用範圍」內被讀取，這個區域也被稱作 Scope。\n",
    "\n",
    "我們用大括號來圍出一個 Scope。\n",
    "\n",
    "如果你存取的變數沒有出現在全域的作用範圍，執行就會拋錯。"
   ]
  },
  {
   "cell_type": "code",
   "execution_count": null,
   "metadata": {},
   "outputs": [],
   "source": [
    "{\n",
    "  const name = 'derek';\n",
    "}\n",
    "// would it throw error?\n",
    "console.log(name);"
   ]
  },
  {
   "cell_type": "markdown",
   "metadata": {},
   "source": [
    "一個 Scope 可以被更大的 Scope 包覆。\n",
    "\n",
    "當你存取一個變數時，JS 引擎會從當下的 Scope 來尋找變數，\n",
    "\n",
    "當下的 Scope 找不到的話，會往 Parent Scope 找。"
   ]
  },
  {
   "cell_type": "code",
   "execution_count": null,
   "metadata": {},
   "outputs": [],
   "source": [
    "{\n",
    "  let msg = 'parent scope';\n",
    "  {\n",
    "    let msg = 'child scope';\n",
    "    console.log(msg);\n",
    "    setTimeout(function() {\n",
    "      console.log(msg);\n",
    "    }, 1000);\n",
    "  }\n",
    "  console.log(msg);\n",
    "}"
   ]
  },
  {
   "cell_type": "markdown",
   "metadata": {},
   "source": [
    "從上面的例子可以看出，`console.log(msg)` 印出的值和「執行時所在的 Scope」有很大的關聯。\n",
    "\n",
    "我們可以形容 JS 是個「執行時很在意上下文」的語言。\n",
    "\n",
    "這個上下文和所謂的「語彙環境」(lexical environment)有關。\n",
    "\n",
    "\n",
    "之後有機會可以多點深入的討論。"
   ]
  },
  {
   "cell_type": "markdown",
   "metadata": {},
   "source": [
    "## Destruction 解構賦值\n",
    "\n",
    "\n",
    "> ```js\n",
    "> var { age, name } = person;\n",
    "> ```"
   ]
  },
  {
   "cell_type": "code",
   "execution_count": null,
   "metadata": {},
   "outputs": [],
   "source": [
    "{\n",
    "  var product = {\n",
    "    name: 'mug',\n",
    "    price: 50,\n",
    "    color: 'blue',\n",
    "  };\n",
    "\n",
    "  var { name: prodName, color, count = 0 } = product;\n",
    "\n",
    "  console.log(`we have ${count} ${color} ${prodName}`);\n",
    "}"
   ]
  },
  {
   "cell_type": "markdown",
   "metadata": {},
   "source": [
    "## Spread operator, Rest param 展開運算子與其餘參數\n",
    "\n",
    "\n",
    "> ```js\n",
    "> var person = { age: 28, ...otherInfo }\n",
    "> var numbers = [1, 2, ...rest]\n",
    "> greet(person, ...restArgs)\n",
    "> ```\n",
    "\n",
    "- 在大括號 `{...x}` 裡，運算子作用的變數就是物件\n",
    "- 在中括號 `[...x]` 或函式參數裡 `f(...x)`，運算子作用的變數就是陣列"
   ]
  },
  {
   "cell_type": "code",
   "execution_count": null,
   "metadata": {},
   "outputs": [],
   "source": [
    "// spread an array to cancat\n",
    "{\n",
    "  var rest = [3, 4, 5];\n",
    "  var countToFive = [1, 2, ...rest];\n",
    "  console.log(countToFive);\n",
    "}"
   ]
  },
  {
   "cell_type": "code",
   "execution_count": null,
   "metadata": {},
   "outputs": [],
   "source": [
    "// spread an array to pass arguments\n",
    "{\n",
    "  var dateFields = [2018, 6, 28]; // 28 July 2018\n",
    "  var d = new Date(...dateFields);\n",
    "  console.log(d);\n",
    "}"
   ]
  },
  {
   "cell_type": "code",
   "execution_count": null,
   "metadata": {},
   "outputs": [],
   "source": [
    "// spread an object to extend fields\n",
    "{\n",
    "  var product = {\n",
    "    name: 'mug',\n",
    "    price: 50,\n",
    "  };\n",
    "\n",
    "  function addColor(prod) {\n",
    "    return {\n",
    "      ...prod,\n",
    "      ...{ color: 'blue' },\n",
    "    };\n",
    "  }\n",
    "  console.log(addColor(product));\n",
    "}"
   ]
  },
  {
   "cell_type": "markdown",
   "metadata": {},
   "source": [
    "---"
   ]
  },
  {
   "cell_type": "code",
   "execution_count": null,
   "metadata": {},
   "outputs": [],
   "source": [
    "// get rest arguments array\n",
    "{\n",
    "  const getInfo = (name, ...args) => console.log(name, args);\n",
    "  getInfo('derek', 28, { color: 'purple' });\n",
    "\n",
    "  // ⚠️ bad syntax\n",
    "  //   const badFunc = (...args, x) => {console.log(args)}\n",
    "}"
   ]
  },
  {
   "cell_type": "code",
   "execution_count": null,
   "metadata": {},
   "outputs": [],
   "source": [
    "// get rest key-value pairs object\n",
    "{\n",
    "  const getInfo = ({ name, ...otherInfo }) => {\n",
    "    console.log(`hello ${name}`);\n",
    "    console.log(otherInfo);\n",
    "  };\n",
    "\n",
    "  getInfo({\n",
    "    name: 'derek',\n",
    "    age: 28,\n",
    "    gender: 'male',\n",
    "  });\n",
    "}"
   ]
  },
  {
   "cell_type": "markdown",
   "metadata": {},
   "source": [
    "---"
   ]
  },
  {
   "cell_type": "code",
   "execution_count": null,
   "metadata": {},
   "outputs": [],
   "source": [
    "// copy an array\n",
    "{\n",
    "  var numbers = [1, 2, 3, 4, 8];\n",
    "  var copiedNum = [...numbers];\n",
    "\n",
    "  console.log(numbers === copiedNum);\n",
    "}\n",
    "\n",
    "// copy an object\n",
    "{\n",
    "  var product = {\n",
    "    name: 'mug',\n",
    "    price: 50,\n",
    "  };\n",
    "\n",
    "  var copiedProd = {\n",
    "    ...product,\n",
    "  };\n",
    "\n",
    "  console.log(product === copiedProd);\n",
    "}"
   ]
  },
  {
   "cell_type": "markdown",
   "metadata": {},
   "source": [
    "REF\n",
    "\n",
    "- [Babel](https://babeljs.io/repl/)\n",
    "- [ES6 標準入門](http://es6.ruanyifeng.com/)\n",
    "- [展開運算子與其餘參數](http://eddychang.me/blog/16-javascript/45-spread-operator-rest-parameters.html)"
   ]
  },
  {
   "cell_type": "markdown",
   "metadata": {},
   "source": [
    "---\n",
    "\n",
    "author: TC Liu <liuderchi@github>\n",
    "date: June 18th 2018\n",
    "\n",
    "---"
   ]
  },
  {
   "cell_type": "code",
   "execution_count": null,
   "metadata": {},
   "outputs": [],
   "source": []
  }
 ],
 "metadata": {
  "kernelspec": {
   "display_name": "NodeJS",
   "language": "javascript",
   "name": "nodejs"
  },
  "language_info": {
   "codemirror_mode": "javascript",
   "file_extension": ".js",
   "mimetype": "text/javascript",
   "name": "nodejs",
   "pygments_lexer": "javascript",
   "version": "0.10"
  }
 },
 "nbformat": 4,
 "nbformat_minor": 2
}
