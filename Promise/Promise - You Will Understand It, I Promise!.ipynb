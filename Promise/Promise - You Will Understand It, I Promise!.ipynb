{
 "cells": [
  {
   "cell_type": "markdown",
   "metadata": {},
   "source": [
    "# Promise\n",
    "\n",
    "<!-- Hero Image -->\n",
    "\n",
    "説到 JavaScript 的『Promise』，你腦中出現的關鍵字是什麼呢？\n",
    "\n",
    "筆者個人覺得，談到 Promise 第一個想到的關鍵字是『非同步』。\n",
    "\n",
    "---\n",
    "\n",
    "要理解 Promise ，我們要先對於『非同步執行』的程式碼有相當程度的體會。\n",
    "\n",
    "讓我們來看看一些程式範例。"
   ]
  },
  {
   "cell_type": "markdown",
   "metadata": {},
   "source": [
    "### 同步執行\n",
    "\n",
    "同步執行的概念就是你最習慣的 JS 執行方式：\n",
    "\n",
    ">『先做第一行，等完成之後再做第二行，以此類推』\n",
    "\n",
    "讓我們來看看一個簡單的範例，\n",
    "\n",
    "先猜看看，結果會是什麼呢？"
   ]
  },
  {
   "cell_type": "code",
   "execution_count": null,
   "metadata": {},
   "outputs": [],
   "source": [
    "var msg = 'Hello';\n",
    "\n",
    "console.log(msg);\n",
    "\n",
    "msg = 'Byebye';\n",
    "\n",
    "console.warn(msg);"
   ]
  },
  {
   "cell_type": "markdown",
   "metadata": {},
   "source": [
    "### 非同步執行\n",
    "\n",
    "非同步執行的概念就是打破你習慣的『同步執行』\n",
    "\n",
    ">『先做第一行，但是 第一行還沒有完成 的時候，第二行就開始做了』\n",
    "\n",
    "這個範例和上一個有一些地方不同，是哪裡呢？\n",
    "\n",
    "結果和你預期的一樣嗎？"
   ]
  },
  {
   "cell_type": "code",
   "execution_count": null,
   "metadata": {},
   "outputs": [],
   "source": [
    "function greetAsync(msg) {\n",
    "    setTimeout(function() { console.log(msg); }, 1000);\n",
    "}\n",
    "\n",
    "var msg = 'Hello';\n",
    "\n",
    "greetAsync(msg)\n",
    "\n",
    "msg = 'Byebye';\n",
    "\n",
    "console.warn(msg);"
   ]
  },
  {
   "cell_type": "markdown",
   "metadata": {},
   "source": [
    "上面的範例中，可以看到我們建立了一個新函式 `greetAsync()`，\n",
    "將 `console.log(msg)` 被包在函式裡，放到了 [`setTimeout`][setTimeout] 裡面，設定一秒後執行。\n",
    "\n",
    "同時，我們也可以從結果看出，JS 引擎並不會等第七行完成，\n",
    "而是先繼續執行後面的第九行和第十一行，最後才執行第七行。\n",
    "\n",
    "第七行執行時，當下 `msg` 的值也變成了 `'ByeBye'`，印出來的值也不同。\n",
    "\n",
    "所以，第七行的 `greetAsync` 就是所謂的『非同步函式』。它的執行是非同步的（或稱作異步執行）。\n",
    "\n",
    "[setTimeout]: https://developer.mozilla.org/en-US/docs/Web/API/WindowOrWorkerGlobalScope/setTimeout"
   ]
  },
  {
   "cell_type": "markdown",
   "metadata": {},
   "source": [
    "### 非同步執行的好處與壞處\n",
    "\n",
    "上面的例子有個顯而易見的壞處，就是『維護不易』。\n",
    "\n",
    "我們很難一眼從程式碼本身就看出它執行的結果。\n",
    "\n",
    "或者是說，我們也很難預期非同步的程式碼會在什麼時候執行。\n",
    "\n",
    "---\n",
    "\n",
    "而好處是，現代網頁中有許多操作是『費時且無法預期結果』的。\n",
    "\n",
    "像是藉由網路送出請求：我們無法確定它何時會完成。\n",
    "\n",
    "這些操作如果是同步的，會造成網頁體驗上有很大的缺陷。\n",
    "\n",
    "（請想像，網路不好時，你按下按鈕要等幾秒畫面才告訴你結果。）\n",
    "\n",
    "---\n",
    "\n",
    "因此，在現在網頁開發的趨勢之下，我們必須要維護非同步執行的程式碼。\n",
    "\n",
    "而 Promise 帶來了一些針對非同步執行的標準，能減輕我們一些負擔。"
   ]
  },
  {
   "cell_type": "markdown",
   "metadata": {},
   "source": [
    "### 一個 Promise 代表著一個非同步的執行\n",
    "\n",
    "體驗完了同步與非同步程式碼的行為，我們終於可以來聊聊我們的主角了 -- `Promise`。\n",
    "\n",
    "Promise 其實就是針對『非同步函式執行的管理』所做的設計。基本上來說是這樣：\n",
    "\n",
    "> 非同步執行函式的狀態，可能是『等待中』，不然就是帶有回傳值的『已實現』，不然就是帶有回傳理由的『已失敗』。\n",
    "\n",
    "<!-- 狀態示意圖 -->\n",
    "\n",
    "使用三種狀態來表示非同步執行是非常精巧的設計。以『向伺服器送出 HTTP 請求』為例：\n",
    "\n",
    "- 『等待中』可能代表他正在和伺服器建立連線，或是等待回應\n",
    "- 『已實現』表示該非同步函式執行結束，回傳值就是 HTTP 回應\n",
    "- 『已失敗』表示出現例外情況的錯誤，像是連線逾時，回傳理由可以是錯誤物件\n",
    "\n",
    "從開發者的角度來說，常見的操作就是處理 `Promise` 的兩種 settled 狀態 - 『已實現』或是『已失敗』。\n",
    "\n",
    "讓我們來看看怎麼做"
   ]
  },
  {
   "cell_type": "code",
   "execution_count": null,
   "metadata": {},
   "outputs": [],
   "source": [
    "var fetch = require('node-fetch')\n",
    "var fetchJson = function(url) { return fetch(url).then(function(resp) {return resp.json()})}\n",
    "\n",
    "var responsePromise = fetchJson('https://api.github.com/users/github')\n",
    "responsePromise.then(function(json) {console.warn(json)})"
   ]
  },
  {
   "cell_type": "code",
   "execution_count": null,
   "metadata": {},
   "outputs": [],
   "source": []
  },
  {
   "cell_type": "markdown",
   "metadata": {},
   "source": [
    "###### Ref\n",
    "\n",
    "- [從Promise開始的JavaScript異步生活\n",
    "](https://eyesofkids.gitbooks.io/javascript-start-es6-promise/content/contents/intro.html)"
   ]
  },
  {
   "cell_type": "code",
   "execution_count": null,
   "metadata": {},
   "outputs": [],
   "source": []
  }
 ],
 "metadata": {
  "kernelspec": {
   "display_name": "NodeJS",
   "language": "javascript",
   "name": "nodejs"
  },
  "language_info": {
   "codemirror_mode": "javascript",
   "file_extension": ".js",
   "mimetype": "text/javascript",
   "name": "nodejs",
   "pygments_lexer": "javascript",
   "version": "0.10"
  }
 },
 "nbformat": 4,
 "nbformat_minor": 2
}
